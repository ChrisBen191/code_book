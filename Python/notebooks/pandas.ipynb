{
 "cells": [
  {
   "cell_type": "code",
   "execution_count": 2,
   "metadata": {},
   "outputs": [],
   "source": [
    "import pandas as pd\n",
    "import numpy as np\n",
    "\n",
    "pd.set_option(\"display.notebook_repr_html\", False)"
   ]
  },
  {
   "cell_type": "code",
   "execution_count": 3,
   "metadata": {},
   "outputs": [
    {
     "data": {
      "text/plain": [
       "            state         city  bbq_rating  outdoor_rating\n",
       "0           Texas       Austin           8               8\n",
       "1           Texas  San Antonio           9               7\n",
       "2          Kansas  Kansas City           7               5\n",
       "3           Texas        Llano          10               3\n",
       "4        Missouri  Kansas City           7               5\n",
       "5        Missouri    St. Louis           6               7\n",
       "6  North Carolina      Raleigh           5               8"
      ]
     },
     "execution_count": 3,
     "metadata": {},
     "output_type": "execute_result"
    }
   ],
   "source": [
    "df = pd.DataFrame({'state' : ['Texas', 'Texas', 'Kansas', 'Texas', 'Missouri', 'Missouri', 'North Carolina'],\n",
    "                   'city' : ['Austin', 'San Antonio', 'Kansas City', 'Llano', 'Kansas City', 'St. Louis', 'Raleigh'],\n",
    "                   'bbq_rating' : [8, 9, 7, 10, 7, 6, 5],\n",
    "                   'outdoor_rating' : [8, 7, 5, 3, 5, 7, 8]})\n",
    "\n",
    "df"
   ]
  },
  {
   "cell_type": "markdown",
   "metadata": {},
   "source": [
    "# Groupby"
   ]
  },
  {
   "cell_type": "code",
   "execution_count": 4,
   "metadata": {},
   "outputs": [
    {
     "data": {
      "text/plain": [
       "<pandas.core.groupby.generic.DataFrameGroupBy object at 0x7f8e28b86250>"
      ]
     },
     "execution_count": 4,
     "metadata": {},
     "output_type": "execute_result"
    }
   ],
   "source": [
    "# groupby object is a pd.DataFrame if a list or array is passed to be computed\n",
    "grouped_df = df.groupby('state')[['bbq_rating']]\n",
    "grouped_df"
   ]
  },
  {
   "cell_type": "code",
   "execution_count": 5,
   "metadata": {},
   "outputs": [
    {
     "data": {
      "text/plain": [
       "<pandas.core.groupby.generic.SeriesGroupBy object at 0x7f8e28b86130>"
      ]
     },
     "execution_count": 5,
     "metadata": {},
     "output_type": "execute_result"
    }
   ],
   "source": [
    "# groupby object is a pd.Series if only a single column is passed to be computed\n",
    "grouped_series = df.groupby('state')['bbq_rating']\n",
    "grouped_series"
   ]
  },
  {
   "cell_type": "code",
   "execution_count": 6,
   "metadata": {},
   "outputs": [
    {
     "data": {
      "text/plain": [
       "<pandas.core.groupby.generic.DataFrameGroupBy object at 0x7f8e28b86340>"
      ]
     },
     "execution_count": 6,
     "metadata": {},
     "output_type": "execute_result"
    }
   ],
   "source": [
    "# creates a GROUPBY object that can be iterated over to compile aggregrates\n",
    "grouped = df.groupby(df['state'])\n",
    "grouped"
   ]
  },
  {
   "cell_type": "code",
   "execution_count": 7,
   "metadata": {},
   "outputs": [
    {
     "data": {
      "text/plain": [
       "               bbq_rating                                             \\\n",
       "                    count mean       std  min   25%  50%   75%   max   \n",
       "state                                                                  \n",
       "Kansas                1.0  7.0       NaN  7.0  7.00  7.0  7.00   7.0   \n",
       "Missouri              2.0  6.5  0.707107  6.0  6.25  6.5  6.75   7.0   \n",
       "North Carolina        1.0  5.0       NaN  5.0  5.00  5.0  5.00   5.0   \n",
       "Texas                 3.0  9.0  1.000000  8.0  8.50  9.0  9.50  10.0   \n",
       "\n",
       "               outdoor_rating                                          \n",
       "                        count mean       std  min  25%  50%  75%  max  \n",
       "state                                                                  \n",
       "Kansas                    1.0  5.0       NaN  5.0  5.0  5.0  5.0  5.0  \n",
       "Missouri                  2.0  6.0  1.414214  5.0  5.5  6.0  6.5  7.0  \n",
       "North Carolina            1.0  8.0       NaN  8.0  8.0  8.0  8.0  8.0  \n",
       "Texas                     3.0  6.0  2.645751  3.0  5.0  7.0  7.5  8.0  "
      ]
     },
     "execution_count": 7,
     "metadata": {},
     "output_type": "execute_result"
    }
   ],
   "source": [
    "# provides a statistical overview of the groupby object\n",
    "grouped.describe()"
   ]
  },
  {
   "cell_type": "code",
   "execution_count": 8,
   "metadata": {},
   "outputs": [
    {
     "data": {
      "text/plain": [
       "                bbq_rating  outdoor_rating\n",
       "state                                     \n",
       "Kansas                 7.0             5.0\n",
       "Missouri               6.5             6.0\n",
       "North Carolina         5.0             8.0\n",
       "Texas                  9.0             6.0"
      ]
     },
     "execution_count": 8,
     "metadata": {},
     "output_type": "execute_result"
    }
   ],
   "source": [
    "# applying mean() method to groupby object grouped\n",
    "grouped.mean()"
   ]
  },
  {
   "cell_type": "code",
   "execution_count": 9,
   "metadata": {},
   "outputs": [
    {
     "data": {
      "text/plain": [
       "state           city       \n",
       "Kansas          Kansas City    5\n",
       "Missouri        Kansas City    5\n",
       "                St. Louis      7\n",
       "North Carolina  Raleigh        8\n",
       "Texas           Austin         8\n",
       "                Llano          3\n",
       "                San Antonio    7\n",
       "Name: outdoor_rating, dtype: int64"
      ]
     },
     "execution_count": 9,
     "metadata": {},
     "output_type": "execute_result"
    }
   ],
   "source": [
    "# grouping by 'outdoor_rating' field, passing multiple group keys, finding average; creates a pd.Series\n",
    "means = df['outdoor_rating'].groupby([df['state'], df['city']]).mean()\n",
    "means"
   ]
  },
  {
   "cell_type": "code",
   "execution_count": 10,
   "metadata": {},
   "outputs": [
    {
     "data": {
      "text/plain": [
       "state\n",
       "Kansas            1\n",
       "Missouri          2\n",
       "North Carolina    1\n",
       "Texas             3\n",
       "dtype: int64"
      ]
     },
     "execution_count": 10,
     "metadata": {},
     "output_type": "execute_result"
    }
   ],
   "source": [
    "# displays the 'size' or count of each group\n",
    "df.groupby(['state']).size()"
   ]
  },
  {
   "cell_type": "markdown",
   "metadata": {},
   "source": [
    "## Groupby agg"
   ]
  },
  {
   "cell_type": "code",
   "execution_count": 11,
   "metadata": {},
   "outputs": [
    {
     "data": {
      "text/plain": [
       "                  city bbq_rating     outdoor_rating    \n",
       "               nunique       mean max           mean max\n",
       "state                                                   \n",
       "Kansas               1        7.0   7              5   5\n",
       "Missouri             2        6.5   7              6   7\n",
       "North Carolina       1        5.0   5              8   8\n",
       "Texas                3        9.0  10              6   8"
      ]
     },
     "execution_count": 11,
     "metadata": {},
     "output_type": "execute_result"
    }
   ],
   "source": [
    "# using 'agg' with groupby object to aggregrate multi columns with multiple aggregrations\n",
    "agg = {\n",
    "    'city': 'nunique',\n",
    "    'bbq_rating': ['mean', 'max'],\n",
    "    'outdoor_rating': ['mean', 'max']\n",
    "      }\n",
    "\n",
    "# grouping by state, passing agg dict into agg() method\n",
    "agg_df = df.groupby('state').agg(agg)\n",
    "agg_df"
   ]
  },
  {
   "cell_type": "code",
   "execution_count": 12,
   "metadata": {},
   "outputs": [
    {
     "data": {
      "text/plain": [
       "            state  city_nunique  bbq_rating_mean  bbq_rating_max  \\\n",
       "0          Kansas             1              7.0               7   \n",
       "1        Missouri             2              6.5               7   \n",
       "2  North Carolina             1              5.0               5   \n",
       "3           Texas             3              9.0              10   \n",
       "\n",
       "   outdoor_rating_mean  outdoor_rating_max  \n",
       "0                    5                   5  \n",
       "1                    6                   7  \n",
       "2                    8                   8  \n",
       "3                    6                   8  "
      ]
     },
     "execution_count": 12,
     "metadata": {},
     "output_type": "execute_result"
    }
   ],
   "source": [
    "# list comphrension that creates new column names with column_aggregration notation; reset_index() flattens the summary\n",
    "agg_df.columns = ['_'.join(col).strip() for col in agg_df.columns.values]\n",
    "agg_df.reset_index()"
   ]
  },
  {
   "cell_type": "markdown",
   "metadata": {},
   "source": [
    "### Iterating over Groups"
   ]
  },
  {
   "cell_type": "code",
   "execution_count": 13,
   "metadata": {},
   "outputs": [
    {
     "name": "stdout",
     "output_type": "stream",
     "text": [
      "State: Kansas\n",
      "    state         city  bbq_rating  outdoor_rating\n",
      "2  Kansas  Kansas City           7               5 \n",
      "\n",
      "State: Missouri\n",
      "      state         city  bbq_rating  outdoor_rating\n",
      "4  Missouri  Kansas City           7               5\n",
      "5  Missouri    St. Louis           6               7 \n",
      "\n",
      "State: North Carolina\n",
      "            state     city  bbq_rating  outdoor_rating\n",
      "6  North Carolina  Raleigh           5               8 \n",
      "\n",
      "State: Texas\n",
      "   state         city  bbq_rating  outdoor_rating\n",
      "0  Texas       Austin           8               8\n",
      "1  Texas  San Antonio           9               7\n",
      "3  Texas        Llano          10               3 \n",
      "\n"
     ]
    }
   ],
   "source": [
    "# groupby object supports iteration; generates a tuple of group key name, associated data\n",
    "for state, group in df.groupby('state'):\n",
    "    print(f'State: {state}')\n",
    "    print(group, '\\n')"
   ]
  },
  {
   "cell_type": "code",
   "execution_count": 14,
   "metadata": {},
   "outputs": [
    {
     "name": "stdout",
     "output_type": "stream",
     "text": [
      "State: Kansas\n",
      "Specific City: Kansas City\n",
      "    state         city  bbq_rating  outdoor_rating\n",
      "2  Kansas  Kansas City           7               5 \n",
      "\n",
      "State: Missouri\n",
      "Specific City: Kansas City\n",
      "      state         city  bbq_rating  outdoor_rating\n",
      "4  Missouri  Kansas City           7               5 \n",
      "\n",
      "State: Missouri\n",
      "Specific City: St. Louis\n",
      "      state       city  bbq_rating  outdoor_rating\n",
      "5  Missouri  St. Louis           6               7 \n",
      "\n",
      "State: North Carolina\n",
      "Specific City: Raleigh\n",
      "            state     city  bbq_rating  outdoor_rating\n",
      "6  North Carolina  Raleigh           5               8 \n",
      "\n",
      "State: Texas\n",
      "Specific City: Austin\n",
      "   state    city  bbq_rating  outdoor_rating\n",
      "0  Texas  Austin           8               8 \n",
      "\n",
      "State: Texas\n",
      "Specific City: Llano\n",
      "   state   city  bbq_rating  outdoor_rating\n",
      "3  Texas  Llano          10               3 \n",
      "\n",
      "State: Texas\n",
      "Specific City: San Antonio\n",
      "   state         city  bbq_rating  outdoor_rating\n",
      "1  Texas  San Antonio           9               7 \n",
      "\n"
     ]
    }
   ],
   "source": [
    "# iterating over groupby object with multiple passed group keys\n",
    "for (state, city), group in df.groupby(['state', 'city']):\n",
    "    print(f'State: {state}')\n",
    "    print(f'Specific City: {city}')\n",
    "    print(group, '\\n')"
   ]
  },
  {
   "cell_type": "markdown",
   "metadata": {},
   "source": [
    "### Creating Groupby Dict"
   ]
  },
  {
   "cell_type": "code",
   "execution_count": 15,
   "metadata": {},
   "outputs": [
    {
     "data": {
      "text/plain": [
       "   state         city  bbq_rating  outdoor_rating\n",
       "0  Texas       Austin           8               8\n",
       "1  Texas  San Antonio           9               7\n",
       "3  Texas        Llano          10               3"
      ]
     },
     "execution_count": 15,
     "metadata": {},
     "output_type": "execute_result"
    }
   ],
   "source": [
    "# computing a dict of the data pieces\n",
    "pieces = dict(list(df.groupby('state')))\n",
    "\n",
    "pieces['Texas']"
   ]
  },
  {
   "cell_type": "code",
   "execution_count": 16,
   "metadata": {},
   "outputs": [
    {
     "data": {
      "text/plain": [
       "<pandas.core.groupby.generic.DataFrameGroupBy object at 0x7f8e2a0449a0>"
      ]
     },
     "execution_count": 16,
     "metadata": {},
     "output_type": "execute_result"
    }
   ],
   "source": [
    "# groupby object is a pd.DataFrame if a list or array is passed to be computed\n",
    "grouped_df = df.groupby('state')[['bbq_rating']]\n",
    "grouped_df"
   ]
  },
  {
   "cell_type": "code",
   "execution_count": 17,
   "metadata": {},
   "outputs": [
    {
     "data": {
      "text/plain": [
       "<pandas.core.groupby.generic.SeriesGroupBy object at 0x7f8e2a0440a0>"
      ]
     },
     "execution_count": 17,
     "metadata": {},
     "output_type": "execute_result"
    }
   ],
   "source": [
    "# groupby object is a pd.Series if only a single column is passed to be computed\n",
    "grouped_series = df.groupby('state')['bbq_rating']\n",
    "grouped_series"
   ]
  },
  {
   "cell_type": "code",
   "execution_count": 19,
   "metadata": {},
   "outputs": [
    {
     "data": {
      "text/plain": [
       "                bbq_rating  outdoor_rating\n",
       "state                                     \n",
       "Kansas                 7.0             5.0\n",
       "Missouri               6.9             6.8\n",
       "North Carolina         5.0             8.0\n",
       "Texas                  9.8             7.8"
      ]
     },
     "execution_count": 19,
     "metadata": {},
     "output_type": "execute_result"
    }
   ],
   "source": [
    "df.groupby('state').quantile(0.9)"
   ]
  }
 ],
 "metadata": {
  "kernelspec": {
   "display_name": "Python 3",
   "language": "python",
   "name": "python3"
  },
  "language_info": {
   "codemirror_mode": {
    "name": "ipython",
    "version": 3
   },
   "file_extension": ".py",
   "mimetype": "text/x-python",
   "name": "python",
   "nbconvert_exporter": "python",
   "pygments_lexer": "ipython3",
   "version": "3.8.5"
  }
 },
 "nbformat": 4,
 "nbformat_minor": 4
}
