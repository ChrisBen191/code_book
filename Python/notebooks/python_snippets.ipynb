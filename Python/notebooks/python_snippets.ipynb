{
 "cells": [
  {
   "cell_type": "markdown",
   "metadata": {},
   "source": [
    "# Python"
   ]
  },
  {
   "cell_type": "markdown",
   "metadata": {},
   "source": [
    "## Importing Data\n",
    "---"
   ]
  },
  {
   "cell_type": "markdown",
   "metadata": {},
   "source": [
    "### Glob"
   ]
  },
  {
   "cell_type": "code",
   "execution_count": 1,
   "metadata": {},
   "outputs": [],
   "source": [
    "import glob\n",
    "import pandas as pd\n",
    "\n",
    "# list stating the differences in the csvs to be imported\n",
    "csv_list = ['northern', 'southern', 'eastern', 'western']\n",
    "\n",
    "# initalizing an empty list to store the df's created\n",
    "df_list = []\n",
    "\n",
    "# looping over each list_element to create 'file_name'\n",
    "for list_element in csv_list:\n",
    "    \n",
    "    file_name = f'../Path/To/File/{list_element}US_popular_diners'\n",
    "\n",
    "    # using glob to wildcard search the appropriate csv file; file type added at end of string\n",
    "    for file in glob.glob(file_name + '*.csv'):\n",
    "\n",
    "        # saving each df generated to 'df_list'\n",
    "        df_list.append(pd.read_csv(file, index_col=None))\n",
    "\n",
    "# concatinating the stored dfs together, row-wise or union-style\n",
    "complete_df = pd.concat(df_list, axis=0)"
   ]
  },
  {
   "cell_type": "markdown",
   "metadata": {},
   "source": [
    "## Iterators\n",
    "---"
   ]
  },
  {
   "cell_type": "markdown",
   "metadata": {},
   "source": [
    "### Range"
   ]
  },
  {
   "cell_type": "code",
   "execution_count": null,
   "metadata": {},
   "outputs": [],
   "source": [
    "# increments are specified using STEP\n",
    "num_range = range(0, 16, 2)\n",
    "\n",
    "# converts RANGE OBJECT to a list\n",
    "nums_list = list(num_range)\n",
    "print(nums_list)"
   ]
  },
  {
   "cell_type": "markdown",
   "metadata": {},
   "source": [
    "### Enumerate"
   ]
  },
  {
   "cell_type": "code",
   "execution_count": null,
   "metadata": {},
   "outputs": [],
   "source": [
    "# indexing starting at START value specified\n",
    "enumerate_values = enumerate(['cat', 'dog', 'monkey', 'lemur'], start = 10)\n",
    "\n",
    "# converts the ENUMERATE OBJECT to a list\n",
    "indexed_list = list(enumerate_values)\n",
    "\n",
    "print(indexed_list)"
   ]
  },
  {
   "cell_type": "markdown",
   "metadata": {},
   "source": [
    "### Map"
   ]
  },
  {
   "cell_type": "code",
   "execution_count": null,
   "metadata": {},
   "outputs": [],
   "source": [
    "# MAP can be passed an aggregration to be applied to the second parameter, list of digits\n",
    "rounded_values = map(round, [12.3, 14.4, 17.8])\n",
    "\n",
    "# converts the MAP object to a list\n",
    "rounded_list = list(rounded_values)\n",
    "print(f'Rounded Values: {rounded_list}\\n')\n",
    "\n",
    "# MAP can be passed a parsing or string modifier to be applied to the second parameter, list of strings\n",
    "titled_values = map(str.title, ['denver', 'longbeach', 'hobbs'])\n",
    "\n",
    "# converts the MAP object to a list\n",
    "titled_list = list(titled_values)\n",
    "print(f'Titled Values: {titled_list}\\n')\n",
    "\n",
    "# MAP can be used with lambda to pass anonymous functions without looping\n",
    "squared_values = map(lambda x: x**2, [6, 8, 9, 12, 14])\n",
    "\n",
    "# converts the MAP object to a list\n",
    "squares_list = list(squared_values)\n",
    "print(f'Squared Values: {squares_list}\\n')"
   ]
  },
  {
   "cell_type": "markdown",
   "metadata": {},
   "source": [
    "## Collections Module\n",
    "---"
   ]
  },
  {
   "cell_type": "markdown",
   "metadata": {},
   "source": [
    "### Counter"
   ]
  },
  {
   "cell_type": "code",
   "execution_count": null,
   "metadata": {},
   "outputs": [],
   "source": [
    "from collections import Counter\n",
    "\n",
    "pet_list = ['dog', 'dog', 'cat', 'parrot', 'monkey', 'dog', 'frog', 'cat', 'parrot', 'horse',\n",
    "            'cat', 'dog','hamster', 'horse','snake', 'cat', 'parrot', 'frog', 'hamster', 'snake']\n",
    "\n",
    "# collects the COUNT of values in pet_list; stores as COUNTER object saved as counter_dict\n",
    "counter_dict = Counter(pet_list)\n",
    "print(f'COUNTER Object (dict)\\n {counter_dict}\\n')\n",
    "\n",
    "# capturing top value counts (top 3) and saving LIST OF TUPLES as top_3\n",
    "top_3 = counter_dict.most_common(3)\n",
    "print(f'Top 3 Popular Pets\\n {top_3}')"
   ]
  },
  {
   "cell_type": "markdown",
   "metadata": {},
   "source": [
    "### defaultdict"
   ]
  },
  {
   "cell_type": "code",
   "execution_count": null,
   "metadata": {},
   "outputs": [],
   "source": [
    "from collections import defaultdict\n",
    "\n",
    "\n",
    "pet_colors = {\n",
    "    'dog': ['golden', 'brindle'], \n",
    "    'cat': ['black', 'calico'], \n",
    "    'horse': ['chocolate', 'spotted']\n",
    "}\n",
    "\n",
    "# creating a new dict, with the default value of an empty list\n",
    "new_dict = defaultdict(list)\n",
    "\n",
    "# iterating through pet_colors dict, storing k:v pairs to the DEFAULTDICT named new_dict \n",
    "for key, value_list in pet_colors.items():\n",
    "    new_dict[key].append(value_list)\n",
    "\n",
    "    \n",
    "# the DEFAULTDICT named new_dict does not have frog key, but by default returns an empty dict\n",
    "print(f'Frog value does not exist yet: {new_dict[\"frog\"]}\\n')\n",
    "\n",
    "# frog key now exists in new_dict, with an empty list as it's value by default\n",
    "print(f'Frog value defaulted to empty list due to DEFAULTDICT\\n {new_dict}')"
   ]
  },
  {
   "cell_type": "markdown",
   "metadata": {},
   "source": [
    "### namedtuple"
   ]
  },
  {
   "cell_type": "code",
   "execution_count": 15,
   "metadata": {},
   "outputs": [
    {
     "data": {
      "text/plain": [
       "[Barbeque(name='Jack Jordans', location='Odessa', special='smoked sausage', special_price=12),\n",
       " Barbeque(name='Russels', location='Denver', special='brisket burnt ends', special_price=25),\n",
       " Barbeque(name='Franklins', location='Austin', special='chopped sandwich', special_price=15)]"
      ]
     },
     "execution_count": 15,
     "metadata": {},
     "output_type": "execute_result"
    }
   ],
   "source": [
    "from collections import namedtuple\n",
    "\n",
    "# list of tuples with bbq joint information, stored as bbq_tuples\n",
    "bbq_tuples = [\n",
    "    ('Jack Jordans', 'Odessa', 'smoked sausage', 12),\n",
    "    ('Russels', 'Denver', 'brisket burnt ends', 25),\n",
    "    ('Franklins', 'Austin', 'chopped sandwich', 15)\n",
    "]\n",
    "\n",
    "# creating the BARBEQUE nametuple and passing list of attribute names\n",
    "Barbeque = namedtuple('Barbeque', ['name', 'location', 'special', 'special_price'])\n",
    "\n",
    "# initializing a list to hold the list of namedtuples\n",
    "bbq_joints = []\n",
    "\n",
    "# looping over bbq_tuples, identifying each attribute\n",
    "for joint, location, special, special_price in bbq_tuples:\n",
    "    \n",
    "    # creating NAMEDTUPLE object as details, appending to bbq_joints list\n",
    "    details = Barbeque(joint, location, special, special_price)\n",
    "    bbq_joints.append(details)\n",
    "    \n",
    "# diplays the Barbeque nametuples\n",
    "bbq_joints"
   ]
  },
  {
   "cell_type": "code",
   "execution_count": 16,
   "metadata": {},
   "outputs": [
    {
     "name": "stdout",
     "output_type": "stream",
     "text": [
      "Jack Jordans BBQ in Odessa has a great smoked sausage special!\n",
      "Russels BBQ in Denver has a great brisket burnt ends special!\n",
      "Franklins BBQ in Austin has a great chopped sandwich special!\n"
     ]
    }
   ],
   "source": [
    "# nametuples' attributes are now easily accessible\n",
    "for joint in bbq_joints:\n",
    "    print(f'{joint.name} BBQ in {joint.location} has a great {joint.special} special!')"
   ]
  },
  {
   "cell_type": "markdown",
   "metadata": {},
   "source": [
    "## Itertools Module\n",
    "---"
   ]
  },
  {
   "cell_type": "markdown",
   "metadata": {},
   "source": [
    "### Combinations"
   ]
  },
  {
   "cell_type": "code",
   "execution_count": 17,
   "metadata": {},
   "outputs": [
    {
     "data": {
      "text/plain": [
       "[('red', 'blue'), ('red', 'green'), ('blue', 'green')]"
      ]
     },
     "execution_count": 17,
     "metadata": {},
     "output_type": "execute_result"
    }
   ],
   "source": [
    "from itertools import combinations\n",
    "\n",
    "colors = ['red', 'blue', 'green']\n",
    "\n",
    "# '2' indicates NUM OF COMBINATIONS, '*' unpacks the COMBO OBJECT to a list\n",
    "color_mixes = [ *combinations(colors, 2) ]\n",
    "\n",
    "color_mixes"
   ]
  },
  {
   "cell_type": "markdown",
   "metadata": {},
   "source": [
    "## Sets\n",
    "---"
   ]
  },
  {
   "cell_type": "code",
   "execution_count": 18,
   "metadata": {},
   "outputs": [],
   "source": [
    "tx_favorites = ['steak', 'brisket', 'burritos', 'chili', 'bbq', 'hatch chilies', 'queso', 'mediterranean', 'wings']\n",
    "co_favorites = ['steak', 'green chilies', 'chili', 'sushi', 'pizza', 'mediterranean', 'wings']\n",
    "\n",
    "# converting lists into SET objects which only store unique values (no duplicates)\n",
    "tx_set = set(tx_favorites)\n",
    "co_set = set(co_favorites)"
   ]
  },
  {
   "cell_type": "markdown",
   "metadata": {},
   "source": [
    "### intersection"
   ]
  },
  {
   "cell_type": "code",
   "execution_count": 19,
   "metadata": {},
   "outputs": [
    {
     "name": "stdout",
     "output_type": "stream",
     "text": [
      "{'wings', 'steak', 'mediterranean', 'chili'}\n"
     ]
    }
   ],
   "source": [
    "# INTERSECTION collects values shared between the two sets\n",
    "both_sets = tx_set.intersection(co_set)\n",
    "print(both_sets)"
   ]
  },
  {
   "cell_type": "markdown",
   "metadata": {},
   "source": [
    "### difference"
   ]
  },
  {
   "cell_type": "code",
   "execution_count": 20,
   "metadata": {},
   "outputs": [
    {
     "name": "stdout",
     "output_type": "stream",
     "text": [
      "Only a Texas favorite\n",
      " {'bbq', 'burritos', 'queso', 'hatch chilies', 'brisket'}\n",
      "\n",
      "Only a Colorado favorite\n",
      " {'green chilies', 'sushi', 'pizza'}\n"
     ]
    }
   ],
   "source": [
    "#DIFFERENCE collects values only in the set specified\n",
    "tx_set_only = tx_set.difference(co_set)\n",
    "co_set_only = co_set.difference(tx_set)\n",
    "\n",
    "print(f'Only a Texas favorite\\n {tx_set_only}\\n')\n",
    "print(f'Only a Colorado favorite\\n {co_set_only}')"
   ]
  },
  {
   "cell_type": "markdown",
   "metadata": {},
   "source": [
    "### symmetric difference"
   ]
  },
  {
   "cell_type": "code",
   "execution_count": 21,
   "metadata": {},
   "outputs": [
    {
     "name": "stdout",
     "output_type": "stream",
     "text": [
      "Either Texas/Colorado Favorite, BUT NOT BOTH\n",
      " {'green chilies', 'bbq', 'pizza', 'burritos', 'queso', 'hatch chilies', 'brisket', 'sushi'}\n",
      "\n"
     ]
    }
   ],
   "source": [
    "# SYMMETRIC_DIFFERENCE collects values that exist in ONE of the sets, but NOT BOTH\n",
    "differences = tx_set.symmetric_difference(co_set)\n",
    "print(f'Either Texas/Colorado Favorite, BUT NOT BOTH\\n {differences}\\n')"
   ]
  },
  {
   "cell_type": "markdown",
   "metadata": {},
   "source": [
    "### union"
   ]
  },
  {
   "cell_type": "code",
   "execution_count": 22,
   "metadata": {},
   "outputs": [
    {
     "name": "stdout",
     "output_type": "stream",
     "text": [
      "All Favorites (both states), NO DUPLICATES\n",
      " {'wings', 'green chilies', 'bbq', 'burritos', 'queso', 'chili', 'hatch chilies', 'pizza', 'steak', 'brisket', 'mediterranean', 'sushi'}\n",
      "\n"
     ]
    }
   ],
   "source": [
    "# UNION collects all values from each set (no duplicates)\n",
    "union_set = tx_set.union(co_set)\n",
    "print(f'All Favorites (both states), NO DUPLICATES\\n {union_set}\\n')"
   ]
  },
  {
   "cell_type": "markdown",
   "metadata": {},
   "source": [
    "### set modifiers"
   ]
  },
  {
   "cell_type": "code",
   "execution_count": 23,
   "metadata": {},
   "outputs": [
    {
     "name": "stdout",
     "output_type": "stream",
     "text": [
      "{'wings', 'bbq', 'burritos', 'queso', 'chili', 'hatch chilies', 'burger', 'steak', 'brisket', 'mediterranean'}\n",
      "{'wings', 'green chilies', 'breakfast skillet', 'chili', 'buffalo burger', 'pizza', 'steak', 'sushi', 'mediterranean'}\n"
     ]
    }
   ],
   "source": [
    "# add a single value to the set only if the value is unique\n",
    "tx_set.add('burger')\n",
    "\n",
    "# merges a list of values into the set, only if the values are unique\n",
    "co_set.update(['buffalo burger', 'breakfast skillet', 'salads'])\n",
    "\n",
    "# removes an element from the set\n",
    "co_set.discard('salads')\n",
    "\n",
    "print(tx_set)\n",
    "print(co_set)"
   ]
  },
  {
   "cell_type": "code",
   "execution_count": 24,
   "metadata": {},
   "outputs": [
    {
     "name": "stdout",
     "output_type": "stream",
     "text": [
      "The set contains the value!\n"
     ]
    }
   ],
   "source": [
    "# check to see if a POSSIBLE VALUE is a member of a set; faster than list looping\n",
    "if 'burger' in tx_set:\n",
    "    print('The set contains the value!')"
   ]
  },
  {
   "cell_type": "markdown",
   "metadata": {},
   "source": [
    "## Lists\n",
    "---"
   ]
  },
  {
   "cell_type": "markdown",
   "metadata": {},
   "source": [
    "|            Command             | Behavior                                                                                             |\n",
    "| :---------------------------: | -------------------------------------------------------------------------------------------- |\n",
    "|    `list.append('value')`     | adds the value specified to the **end** of list                                              |\n",
    "| `list.insert(index, 'value')` | **inserts** the value into the list at the index specified                                   |\n",
    "|    `list.remove('value')`     | **removes** the element with the corresponding 'value' from the list specified               |\n",
    "|     `list.pop(position)`      | **removes** or \"pops\" the element with the corresponding index value from the list specified |\n",
    "|        `list.upper()`         | **uppercases** each string element in the list specified                                     |\n",
    "|        `list.lower()`         | **lowercases** each string element in the list specified                                     |\n",
    "|        `list.title()`         | **uppercases the initial letter** in each element in the list specified                      |\n",
    "|  `list_one.extend(list_two)`  | **appends** list_two to list_one; similar to .append()                                       |\n",
    "|     `list.index('value')`     | provides the **position or index** of an item in a list                                      |\n",
    "|        `sorted(list)`         | provides the items in a list sorted in **alphabetic/numeric order**, ascending               |\n",
    "|     `del list[index_num]`     | deletes the element in the list with the corresponding index_num                             |\n",
    "|         `list[:int]`          | slices list from the beginning element of the list to element with **int-1** index           |\n",
    "|         `list[int:]`          | slices list from the element with **int** index to the last element in the list              |\n",
    "|   `list[start_int:end_int]`   | slices list from element with index **start_num** to the element with **end_num-1** index    |"
   ]
  },
  {
   "cell_type": "markdown",
   "metadata": {},
   "source": [
    "### Zip\n",
    "\n",
    "Combines lists into tuples the length of lists passed. Tuples created equals the smallest list passed."
   ]
  },
  {
   "cell_type": "code",
   "execution_count": 25,
   "metadata": {},
   "outputs": [
    {
     "name": "stdout",
     "output_type": "stream",
     "text": [
      "Tuple Count equals length of smallest passed list:\n",
      " [('cereal', 'steak'), ('scrambled eggs', 'cereal'), ('yogurt', 'burger')]\n"
     ]
    }
   ],
   "source": [
    "breakfast = ['cereal', 'scrambled eggs', 'yogurt']\n",
    "dinner = ['steak', 'cereal', 'burger', 'pasta', 'salmon']\n",
    "\n",
    "zipped_list = [*zip(breakfast, dinner)]\n",
    "\n",
    "print(f'Tuple Count equals length of smallest passed list:\\n {zipped_list}')"
   ]
  },
  {
   "cell_type": "markdown",
   "metadata": {},
   "source": [
    "## List Comprehensions\n",
    "---"
   ]
  },
  {
   "cell_type": "code",
   "execution_count": 26,
   "metadata": {},
   "outputs": [
    {
     "name": "stdout",
     "output_type": "stream",
     "text": [
      "Starting Prices:\n",
      " [15.99, 7.95, 34.5, 20.2, 11.59]\n"
     ]
    }
   ],
   "source": [
    "price_list = [15.99, 7.95, 34.50, 20.20, 11.59]\n",
    "print(f'Starting Prices:\\n {price_list}')"
   ]
  },
  {
   "cell_type": "code",
   "execution_count": 27,
   "metadata": {},
   "outputs": [
    {
     "name": "stdout",
     "output_type": "stream",
     "text": [
      "Price List Discounts:\n",
      " [13.59, 6.76, 29.32, 17.17, 9.85]\n"
     ]
    }
   ],
   "source": [
    "# determing 15% discount for each item in price list w/list comprehension\n",
    "discounts = [price * (0.85) for price in price_list]\n",
    "\n",
    "# formatting each price into $$.$$ format w/list comprehension\n",
    "discounts = [round(discount, 2) for discount in discounts]\n",
    "print(f'Price List Discounts:\\n {discounts}')"
   ]
  },
  {
   "cell_type": "code",
   "execution_count": 28,
   "metadata": {},
   "outputs": [
    {
     "name": "stdout",
     "output_type": "stream",
     "text": [
      "Cheapest Prices:\n",
      " [13.59, 29.32, 17.17]\n"
     ]
    }
   ],
   "source": [
    "# filters out elements not meeting conditional clause\n",
    "cheap = [price for price in discounts if price>=10]\n",
    "print(f'Cheapest Prices:\\n {cheap}')"
   ]
  },
  {
   "cell_type": "code",
   "execution_count": 29,
   "metadata": {},
   "outputs": [
    {
     "name": "stdout",
     "output_type": "stream",
     "text": [
      "Prices after GiftCard applied:\n",
      " [13.59, 6.76, 19.32, 7.170000000000002, 9.85]\n"
     ]
    }
   ],
   "source": [
    "# if/else providing string values cooresponding if conditional is met \n",
    "price_levels = ['expensive' if price>10 else 'cheap' for price in discounts]\n",
    "\n",
    "# assume $10 gift card can be applied to only $15 and more...\n",
    "after_gc = [price-10 if price>=15 else price for price in discounts]\n",
    "print(f'Prices after GiftCard applied:\\n {after_gc}')"
   ]
  },
  {
   "cell_type": "markdown",
   "metadata": {},
   "source": [
    "## Dictionaries\n",
    "---"
   ]
  },
  {
   "cell_type": "markdown",
   "metadata": {},
   "source": [
    "|           Command            | Behavior                                                                                                                  |\n",
    "| ------------------------- | ----------------------------------------------------------------------------------------------------------------- |\n",
    "| `dict[new_key] = new_value` | updates the dict with a new k:v pair denoted by passed key and value                                              |\n",
    "| `dict.update(second_dict)`  | updates the dict with a passed dictionary, tuple(s), etc.                                                         |\n",
    "|      `dict.pop(value)`      | safely removes the value from the dict if it exists                                                               |\n",
    "|   `dict.get(value, 'NA')`   | safely retrieves the value from the dict if it exists, else it returns secondary value (default None)             |\n",
    "|        `key in dict`        | boolean statement for if key exists in specified dict; commonly used in conditional statements when parsing dicts |"
   ]
  },
  {
   "cell_type": "markdown",
   "metadata": {},
   "source": [
    "### dictionary"
   ]
  },
  {
   "cell_type": "code",
   "execution_count": 30,
   "metadata": {},
   "outputs": [
    {
     "name": "stdout",
     "output_type": "stream",
     "text": [
      "Lunch Meal: sandwich\n"
     ]
    }
   ],
   "source": [
    "# creates a dictionary of key:value pairs\n",
    "meal_dict = {\n",
    "    'breakfast': 'scrambled eggs',\n",
    "    'lunch': 'sandwich',\n",
    "    'dinner': 'steak'\n",
    "}\n",
    "\n",
    "# dictionary is accessed by providing the key in brackets\n",
    "lunch = meal_dict['lunch']\n",
    "print(f'Lunch Meal: {lunch}')"
   ]
  },
  {
   "cell_type": "markdown",
   "metadata": {},
   "source": [
    "### List of dictionaries"
   ]
  },
  {
   "cell_type": "code",
   "execution_count": 31,
   "metadata": {},
   "outputs": [
    {
     "name": "stdout",
     "output_type": "stream",
     "text": [
      "Lunch Meal: sandwich\n"
     ]
    }
   ],
   "source": [
    "# creates a list of dictionaries of key:value pairs\n",
    "list_of_dicts = [\n",
    "    {'breakfast': 'scrambled eggs'},\n",
    "    {'lunch': 'sandwich'},\n",
    "    {'dinner': 'steak'}\n",
    "]\n",
    "\n",
    "# dictionary is accessed by providing index of dict in list, then providing the key for that dict\n",
    "lunch = list_of_dicts[1]['lunch']\n",
    "print(f'Lunch Meal: {lunch}')"
   ]
  },
  {
   "cell_type": "code",
   "execution_count": 32,
   "metadata": {},
   "outputs": [
    {
     "name": "stdout",
     "output_type": "stream",
     "text": [
      "[{'breakfast': 'scrambled eggs'}, {'lunch': 'sandwich'}, {'dinner': 'steak'}, {'snack': 'cheezits'}]\n"
     ]
    }
   ],
   "source": [
    "snack = {'snack': 'cheezits'}\n",
    "\n",
    "# appends adds the snack dict the list_of_dicts\n",
    "list_of_dicts.append(snack)\n",
    "print(list_of_dicts)"
   ]
  },
  {
   "cell_type": "markdown",
   "metadata": {},
   "source": [
    "### Dict of dictionaries"
   ]
  },
  {
   "cell_type": "code",
   "execution_count": 33,
   "metadata": {},
   "outputs": [
    {
     "name": "stdout",
     "output_type": "stream",
     "text": [
      "Lunch Meal: sandwich\n"
     ]
    }
   ],
   "source": [
    "dict_of_dicts = {\n",
    "    'breakfast': {'light': 'yogurt', 'medium': 'breakfast sandwich', 'heavy': 'hangover burger'},\n",
    "    'lunch': {'light': 'sandwich', 'medium': 'pizza', 'heavy': 'fried chicken'},\n",
    "    'dinner': {'light': 'steak salad', 'medium': 'spagetti', 'heavy': 'steak'}\n",
    "}\n",
    "\n",
    "# dictionary is access by providing the key to the nested dict, then providing the key for that dict\n",
    "lunch = dict_of_dicts['lunch']['light']\n",
    "print(f'Lunch Meal: {lunch}')"
   ]
  },
  {
   "cell_type": "code",
   "execution_count": 34,
   "metadata": {},
   "outputs": [
    {
     "name": "stdout",
     "output_type": "stream",
     "text": [
      "Meals for breakfast:\n",
      " {'light': 'yogurt', 'medium': 'breakfast sandwich', 'heavy': 'hangover burger'}\n",
      "\n",
      "Meals for lunch:\n",
      " {'light': 'sandwich', 'medium': 'pizza', 'heavy': 'fried chicken'}\n",
      "\n",
      "Meals for dinner:\n",
      " {'light': 'steak salad', 'medium': 'spagetti', 'heavy': 'steak'}\n",
      "\n",
      "Meals for snacks:\n",
      " {'light': 'cheezeits', 'medium': 'potato chips', 'heavy': 'chocolate cake'}\n",
      "\n"
     ]
    }
   ],
   "source": [
    "snacks = {'snacks': {'light': 'cheezeits', 'medium': 'potato chips', 'heavy': 'chocolate cake'}}\n",
    "\n",
    "# updates dict_of_dicts with snacks dictionary\n",
    "dict_of_dicts.update(snacks)\n",
    "\n",
    "for meal_key in dict_of_dicts:\n",
    "    print(f'Meals for {meal_key}:\\n {dict_of_dicts[meal_key]}\\n')"
   ]
  },
  {
   "cell_type": "markdown",
   "metadata": {},
   "source": [
    "### Dictionary Modifiers"
   ]
  },
  {
   "cell_type": "code",
   "execution_count": 35,
   "metadata": {},
   "outputs": [
    {
     "name": "stdout",
     "output_type": "stream",
     "text": [
      "The team is inside the dictionary!\n"
     ]
    }
   ],
   "source": [
    "sport_dict = {\n",
    "    'basketball': ['lakers', 'spurs', 'nets'],\n",
    "    'football': ['cowboys', 'chiefs', 'seahawks'],\n",
    "}\n",
    "\n",
    "# conditional to determine if element is inside of football list in sport_dict\n",
    "if 'cowboys' in sport_dict['football']:\n",
    "    print('The team is inside the dictionary!')"
   ]
  },
  {
   "cell_type": "code",
   "execution_count": 36,
   "metadata": {},
   "outputs": [
    {
     "name": "stdout",
     "output_type": "stream",
     "text": [
      "List of Sports: (keys representing each sport)\n",
      "basketball\n",
      "football\n"
     ]
    }
   ],
   "source": [
    "# loops through sport_dict to display the sport keys\n",
    "print('List of Sports: (keys representing each sport)')\n",
    "for sport in sport_dict.keys():\n",
    "    print(sport)"
   ]
  },
  {
   "cell_type": "code",
   "execution_count": 37,
   "metadata": {},
   "outputs": [
    {
     "name": "stdout",
     "output_type": "stream",
     "text": [
      "\n",
      "List of Teams: (values for each sport key)\n",
      "['lakers', 'spurs', 'nets']\n",
      "['cowboys', 'chiefs', 'seahawks']\n"
     ]
    }
   ],
   "source": [
    "# loops through sport_dict to display the list of teams\n",
    "print('\\nList of Teams: (values for each sport key)')\n",
    "for teams in sport_dict.values():\n",
    "    print(teams)"
   ]
  },
  {
   "cell_type": "code",
   "execution_count": 38,
   "metadata": {},
   "outputs": [
    {
     "name": "stdout",
     "output_type": "stream",
     "text": [
      "\n",
      "basketball Teams: \n",
      " ['lakers', 'spurs', 'nets']\n",
      "\n",
      "football Teams: \n",
      " ['cowboys', 'chiefs', 'seahawks']\n"
     ]
    }
   ],
   "source": [
    "# loops through sport_dict to display the sport keys and corresponding team values\n",
    "for sport, teams in sport_dict.items():\n",
    "    print(f'\\n{sport} Teams: \\n {teams}')"
   ]
  },
  {
   "cell_type": "markdown",
   "metadata": {},
   "source": [
    "## Functions\n",
    "---"
   ]
  },
  {
   "cell_type": "markdown",
   "metadata": {},
   "source": [
    "### docstring example"
   ]
  },
  {
   "cell_type": "code",
   "execution_count": 39,
   "metadata": {},
   "outputs": [],
   "source": [
    "def function(arg_1, arg_2=42):\n",
    "\t\"\"\"Description of what the function does. Google Docstring Style\n",
    "\tArgs:\n",
    "    arg_1 (str): Description of arg_1 that can break onto the next line if needed.\n",
    "    arg_2 (int, optional): Write optional when an argument has a default value.\n",
    "\n",
    "    Returns:\n",
    "    bool: Optional description of the return value Extra lines are not indented.\n",
    "\n",
    "    Raises:\n",
    "    ValueError: Include any error types that the function intentionally raises.\n",
    "\n",
    "    Notes:\n",
    "    See https://www.datacamp.com/community/tutorials/docstrings-python for more info.\n",
    "\t\"\"\""
   ]
  },
  {
   "cell_type": "markdown",
   "metadata": {},
   "source": [
    "### unpacking arguments"
   ]
  },
  {
   "cell_type": "code",
   "execution_count": 40,
   "metadata": {},
   "outputs": [
    {
     "name": "stdout",
     "output_type": "stream",
     "text": [
      "(1, 3, 5)\n",
      "15 \n",
      "\n",
      "(-1,)\n",
      "-1 \n",
      "\n",
      "(12, 3, 44, -4)\n",
      "-6336\n"
     ]
    }
   ],
   "source": [
    "def multiply(*args):\n",
    "    \"\"\"\n",
    "    Using * lets the function know to unpack the arguments; allows for any number\n",
    "    of arguments to be passed into the function.\n",
    "    \"\"\"\n",
    "    print(args)\n",
    "    \n",
    "    total = 1\n",
    "    for arg in args:\n",
    "        # multiplies the unpacked arguements\n",
    "        total = total * arg\n",
    "        \n",
    "    return total\n",
    "    \n",
    "# runs the multiply function with several sets of values\n",
    "print(multiply(1,3,5), '\\n')\n",
    "print(multiply(-1), '\\n')\n",
    "print(multiply(12,3,44,-4))"
   ]
  },
  {
   "cell_type": "markdown",
   "metadata": {},
   "source": [
    "### destructuring arguments into parameters"
   ]
  },
  {
   "cell_type": "code",
   "execution_count": 41,
   "metadata": {},
   "outputs": [
    {
     "name": "stdout",
     "output_type": "stream",
     "text": [
      "8 \n",
      "\n",
      "20\n"
     ]
    }
   ],
   "source": [
    "def add(x,y):\n",
    "    \"\"\"\n",
    "    Using * when calling the add function breaks down the parameter into the x,y variables;\n",
    "    requires the amount of desctructured parameters and function variables are the same.\n",
    "    \"\"\"\n",
    "    return x + y\n",
    "\n",
    "\n",
    "# using '*' allows the list passed to be deconstructed\n",
    "nums = [3,5]\n",
    "print(add(*nums), '\\n')\n",
    "\n",
    "# using '**' allows the dictionary passed to be deconstructed\n",
    "nums_dict = {'x':10, 'y':10}\n",
    "print(add(**nums_dict))"
   ]
  },
  {
   "cell_type": "markdown",
   "metadata": {},
   "source": [
    "## keyword arguments"
   ]
  },
  {
   "cell_type": "code",
   "execution_count": 42,
   "metadata": {},
   "outputs": [
    {
     "name": "stdout",
     "output_type": "stream",
     "text": [
      "{'name': 'bob', 'age': 25} \n",
      "\n"
     ]
    }
   ],
   "source": [
    "def named(**kwargs):\n",
    "    \"\"\"\n",
    "    Specifying **kwargs will process any number of passed keyword parameters inside dict\n",
    "    \"\"\"\n",
    "    print(kwargs,'\\n')\n",
    "    \n",
    "named(name='bob', age=25)"
   ]
  },
  {
   "cell_type": "code",
   "execution_count": 43,
   "metadata": {},
   "outputs": [
    {
     "name": "stdout",
     "output_type": "stream",
     "text": [
      "{'name': 'bob', 'age': 25} \n",
      "\n",
      "name: bob\n",
      "age: 25\n"
     ]
    }
   ],
   "source": [
    "def print_nicely(**kwargs):\n",
    "    \"\"\"\n",
    "    Passing the kwargs and iterating over any number of parameters\n",
    "    \"\"\"\n",
    "    named(**kwargs)\n",
    "    \n",
    "    for arg, value in kwargs.items():\n",
    "        print(f'{arg}: {value}')\n",
    "    \n",
    "# dict containing kw arguments to be passed into print_nicely function\n",
    "details = {'name':'bob', 'age':25}\n",
    "print_nicely(**details)"
   ]
  },
  {
   "cell_type": "code",
   "execution_count": 44,
   "metadata": {},
   "outputs": [
    {
     "name": "stdout",
     "output_type": "stream",
     "text": [
      "(1, 2, 3, 12) \n",
      "\n",
      "{'name': 'bob', 'age': 25}\n"
     ]
    }
   ],
   "source": [
    "def both(*args, **kwargs):\n",
    "    \"\"\"\n",
    "    this setup is typically used so all arguments can be passed into another function\n",
    "    \"\"\"\n",
    "    print(args, '\\n')\n",
    "    print(kwargs)\n",
    "    \n",
    "both(1,2,3,12, name='bob', age=25)"
   ]
  },
  {
   "cell_type": "markdown",
   "metadata": {},
   "source": [
    "## Classes (Object Oriented Programming)\n",
    "---"
   ]
  },
  {
   "cell_type": "code",
   "execution_count": 45,
   "metadata": {},
   "outputs": [
    {
     "name": "stdout",
     "output_type": "stream",
     "text": [
      "Anakin\n",
      "(80, 82, 85, 78, 92)\n"
     ]
    }
   ],
   "source": [
    "class Student:\n",
    "    \n",
    "    # init will run when class is called\n",
    "    def __init__(self, name, grades):\n",
    "        self.name = name\n",
    "        self.grades = grades\n",
    "        \n",
    "        \n",
    "    # function inside of class is called a 'method'\n",
    "    def average(self):\n",
    "        '''\n",
    "        average function uses the created student (aka 'self')\n",
    "        '''\n",
    "        return sum(self.grades) / len(self.grades)\n",
    "        \n",
    "        \n",
    "# calling the Student class, providing parameters for the class\n",
    "student = Student('Anakin', (80, 82, 85, 78, 92))\n",
    "print(student.name)\n",
    "print(student.grades)"
   ]
  },
  {
   "cell_type": "code",
   "execution_count": 46,
   "metadata": {},
   "outputs": [
    {
     "name": "stdout",
     "output_type": "stream",
     "text": [
      "Obi Wan\n",
      "88.2\n"
     ]
    }
   ],
   "source": [
    "# calling Student class with new passed parameters, saved as student2\n",
    "student2 = Student('Obi Wan', (90, 90, 93, 78, 90))\n",
    "print(student2.name)\n",
    "\n",
    "# average is a method in the class and requires ()\n",
    "print(student2.average())"
   ]
  },
  {
   "cell_type": "markdown",
   "metadata": {},
   "source": [
    "### magic methods"
   ]
  },
  {
   "cell_type": "code",
   "execution_count": 59,
   "metadata": {},
   "outputs": [
    {
     "name": "stdout",
     "output_type": "stream",
     "text": [
      "Person: 'Anakin', 35 years old.\n",
      "\n",
      "<Person(Anakin, 35)>\n"
     ]
    }
   ],
   "source": [
    "class Person:\n",
    "    \n",
    "    def __init__(self, name, age):\n",
    "        self.name = name\n",
    "        self.age = age\n",
    "        \n",
    "        \n",
    "    # magic method called automatically when turning the object into a string\n",
    "    def __str__(self):\n",
    "        return f'Person: {self.name}, {self.age} years old.\\n'\n",
    "    \n",
    "    # magic method designed to return a string that can reconstruct the original object\n",
    "    def __repr__(self):\n",
    "        return f'<Person({self.name}, {self.age})>'\n",
    "        \n",
    "vader = Person('Anakin', 35)\n",
    "\n",
    "# displays a string representation of the object if __str__ not defined, else return defined __str__\n",
    "print(vader)\n",
    "\n",
    "# prints the unambiguous representation of the object\n",
    "print(vader.__repr__())"
   ]
  },
  {
   "cell_type": "markdown",
   "metadata": {},
   "source": [
    "### @classmethod and @staticmethod"
   ]
  },
  {
   "cell_type": "code",
   "execution_count": 48,
   "metadata": {},
   "outputs": [],
   "source": [
    "class ClassTest:\n",
    "    \n",
    "    # instance methods are methods that use the class object self\n",
    "    def instance_method(self):\n",
    "        print(f'Called instance_method of {self}')\n",
    "        \n",
    "    # classmethod are methods that use the cls object, or the Class object itself\n",
    "    @classmethod\n",
    "    def class_method(cls):\n",
    "        print(f'Called class_method of {cls}')\n",
    "        \n",
    "    # static methods are methods that do not have passed parameters self/cls;  \n",
    "    @staticmethod\n",
    "    def static_method():\n",
    "        print('Called static_method.')"
   ]
  },
  {
   "cell_type": "code",
   "execution_count": 49,
   "metadata": {},
   "outputs": [
    {
     "name": "stdout",
     "output_type": "stream",
     "text": [
      "Called instance_method of <__main__.ClassTest object at 0x7fcb510245b0>\n"
     ]
    }
   ],
   "source": [
    "# saving instance of ClassTest and displaying instance method\n",
    "test = ClassTest()\n",
    "test.instance_method()\n",
    "\n",
    "# used for actions, uses data inside the object created, either manipulating or modifying"
   ]
  },
  {
   "cell_type": "code",
   "execution_count": 50,
   "metadata": {},
   "outputs": [
    {
     "name": "stdout",
     "output_type": "stream",
     "text": [
      "Called class_method of <class '__main__.ClassTest'>\n"
     ]
    }
   ],
   "source": [
    "# python will know to pass ClassTest due to @classmethod decorator\n",
    "ClassTest.class_method()\n",
    "\n",
    "# often used to create 'factories'"
   ]
  },
  {
   "cell_type": "code",
   "execution_count": 51,
   "metadata": {},
   "outputs": [
    {
     "name": "stdout",
     "output_type": "stream",
     "text": [
      "Called static_method.\n"
     ]
    }
   ],
   "source": [
    "# essentially a function in the class does not use any parameters\n",
    "ClassTest.static_method()\n",
    "\n",
    "# used to place a method inside a class, belongs with the class logically"
   ]
  },
  {
   "cell_type": "code",
   "execution_count": 52,
   "metadata": {},
   "outputs": [],
   "source": [
    "class Book:\n",
    "    # class variables that make sense to go with this class\n",
    "    TYPES = ('hardcover', 'paperback')\n",
    "    \n",
    "    def __init__(self, name, book_type, weight):\n",
    "        self.name = name \n",
    "        self.book_type = book_type\n",
    "        self.weight = weight\n",
    "        \n",
    "    def __str__(self):\n",
    "        return f'Book: {self.name}, {self.book_type}...weighing {self.weight}g.'\n",
    "    \n",
    "    def __repr__(self):\n",
    "        return f'<Book({self.name}, {self.book_type}, {self.weight})>'\n",
    "\n",
    "    @classmethod\n",
    "    def hardcover(cls, name, page_weight):\n",
    "        \n",
    "        # creates new Book instance, using first type (hardcover), increasing page weight by 100\n",
    "        return cls(name, cls.TYPES[0], page_weight + 100)\n",
    "    \n",
    "    @classmethod\n",
    "    def paperback(cls, name, page_weight):\n",
    "        \n",
    "        # creates new Book instance, using second type (paperback), keeping original page weight\n",
    "        return cls(name, cls.TYPES[1], page_weight)"
   ]
  },
  {
   "cell_type": "code",
   "execution_count": 53,
   "metadata": {},
   "outputs": [
    {
     "name": "stdout",
     "output_type": "stream",
     "text": [
      "('hardcover', 'paperback')\n"
     ]
    }
   ],
   "source": [
    "print(Book.TYPES)"
   ]
  },
  {
   "cell_type": "code",
   "execution_count": 54,
   "metadata": {},
   "outputs": [
    {
     "name": "stdout",
     "output_type": "stream",
     "text": [
      "Book: Harry Potter, hardcover...weighing 1500g.\n",
      "<Book(Harry Potter, hardcover, 1500)>\n"
     ]
    },
    {
     "data": {
      "text/plain": [
       "<Book(Harry Potter, hardcover, 1500)>"
      ]
     },
     "execution_count": 54,
     "metadata": {},
     "output_type": "execute_result"
    }
   ],
   "source": [
    "# creating Book instance as book\n",
    "book = Book('Harry Potter', 'hardcover', 1500)\n",
    "\n",
    "# displaying the defined __str__ method and __repr__ method strings\n",
    "print(book)\n",
    "print(book.__repr__())\n",
    "\n",
    "# when class instance is called by itself, the __repr__ method defined string will be displayed\n",
    "book"
   ]
  },
  {
   "cell_type": "code",
   "execution_count": 55,
   "metadata": {},
   "outputs": [
    {
     "name": "stdout",
     "output_type": "stream",
     "text": [
      "Book: Harry Potter, hardcover...weighing 1600g.\n"
     ]
    }
   ],
   "source": [
    "# using the classmethod hardcover, creating hardcover instance of HP \n",
    "hc_book = Book.hardcover('Harry Potter', 1500)\n",
    "print(hc_book)"
   ]
  },
  {
   "cell_type": "code",
   "execution_count": 56,
   "metadata": {},
   "outputs": [
    {
     "name": "stdout",
     "output_type": "stream",
     "text": [
      "Book: Harry Potter, paperback...weighing 1500g.\n"
     ]
    }
   ],
   "source": [
    "# using the classmethod paperback, creating paperback instance of HP\n",
    "pb_book = Book.paperback('Harry Potter', 1500)\n",
    "print(pb_book)"
   ]
  },
  {
   "cell_type": "markdown",
   "metadata": {},
   "source": [
    "# Pandas\n",
    "---"
   ]
  },
  {
   "cell_type": "code",
   "execution_count": 57,
   "metadata": {},
   "outputs": [
    {
     "name": "stdout",
     "output_type": "stream",
     "text": [
      "There are 2 animal(s) with 4 legs\n",
      "There are 1 animal(s) with 6 legs\n",
      "There are 1 animal(s) with 2 legs\n"
     ]
    }
   ],
   "source": [
    "import pandas as pd\n",
    "\n",
    "# defines a df\n",
    "df = pd.DataFrame({'num_legs': [2, 4, 4, 6], 'num_wings': [2, 0, 0, 0]},\n",
    "                  index=['falcon', 'dog', 'cat', 'ant'])\n",
    "\n",
    "# stores the value counts of the values in num_legs column\n",
    "series_frequency = df['num_legs'].value_counts()\n",
    "\n",
    "# looping over series_frequency, providing a way to display value counts in reports w/ addition info\n",
    "for value, count in series_frequency.items():\n",
    "    print(f'There are {count} animal(s) with {value} legs')"
   ]
  },
  {
   "cell_type": "markdown",
   "metadata": {},
   "source": [
    "### Inheritance"
   ]
  },
  {
   "cell_type": "code",
   "execution_count": 60,
   "metadata": {},
   "outputs": [],
   "source": [
    "class Device:\n",
    "    \n",
    "    def __init__(self, name, connected_by):\n",
    "        self.name = name\n",
    "        self.connected_by = connected_by\n",
    "        self.connected = True\n",
    "        \n",
    "    def __str__(self):\n",
    "        # !r is a shorthand way to include quotes around value\n",
    "        return f'Device {self.name!r} ({self.connected_by})'\n",
    "    \n",
    "    def disconnect(self):\n",
    "        self.connected = False\n",
    "        print('Disconnected.')"
   ]
  },
  {
   "cell_type": "code",
   "execution_count": 62,
   "metadata": {},
   "outputs": [
    {
     "name": "stdout",
     "output_type": "stream",
     "text": [
      "Device 'Printer' (USB)\n",
      "Disconnected.\n"
     ]
    }
   ],
   "source": [
    "printer = Device(\"Printer\", \"USB\")\n",
    "print(printer)\n",
    "printer.disconnect()"
   ]
  },
  {
   "cell_type": "code",
   "execution_count": 80,
   "metadata": {},
   "outputs": [],
   "source": [
    "# inheritance is assigned by passing the class as a parameter\n",
    "class Printer(Device):\n",
    "    \n",
    "    def __init__(self, name, connected_by, capacity):\n",
    "        \n",
    "        # super() calls the init class of the parent class, Device\n",
    "        super().__init__(name, connected_by)\n",
    "        self.capacity = capacity\n",
    "        self.remaining_pages = capacity\n",
    "\n",
    "    def __str__(self):\n",
    "        return f'{super().__str__()} ({self.remaining_pages} pages remaining)'\n",
    "    \n",
    "    def print(self, pages):\n",
    "        '''Prints out the # of pages passed, subtracts pages from remaining_pages value.'''\n",
    "        \n",
    "        if not self.connected:\n",
    "            print('Your printer is not connected!')\n",
    "            return\n",
    "        \n",
    "        print(f'Printing {pages} pages.\\n')\n",
    "        self.remaining_pages -= pages"
   ]
  },
  {
   "cell_type": "code",
   "execution_count": 84,
   "metadata": {},
   "outputs": [
    {
     "name": "stdout",
     "output_type": "stream",
     "text": [
      "Device 'Printer' (USB) (500 pages remaining)\n",
      "Printing 20 pages.\n",
      "\n",
      "Device 'Printer' (USB) (480 pages remaining)\n",
      "Disconnected.\n",
      "Your printer is not connected!\n"
     ]
    }
   ],
   "source": [
    "# creating instance of PRINTER class, displaying __str__ value\n",
    "printer = Printer(\"Printer\", \"USB\", 500)\n",
    "print(printer)\n",
    "\n",
    "# running print function in Printer class, again displaying the modified __str__ value \n",
    "printer.print(20)\n",
    "print(printer)\n",
    "\n",
    "# calling the disconnect function from Device, testing if not self.connected clause\n",
    "printer.disconnect()\n",
    "printer.print(30)"
   ]
  },
  {
   "cell_type": "markdown",
   "metadata": {},
   "source": [
    "### Composition - More common than Inheritance"
   ]
  },
  {
   "cell_type": "code",
   "execution_count": 110,
   "metadata": {},
   "outputs": [],
   "source": [
    "class BookShelf:\n",
    "    # *books expects to have any number of Book objects passed\n",
    "    def __init__(self, *books):\n",
    "        self.books = books\n",
    "        \n",
    "    def __str__(self):\n",
    "        return f'BookShelf with {len(self.books)} books.'\n",
    "    \n",
    "class Book:\n",
    "    \n",
    "    def __init__(self, name):\n",
    "        self.name = name\n",
    "        \n",
    "    def __str__(self):\n",
    "        return f'Book {self.name}'"
   ]
  },
  {
   "cell_type": "code",
   "execution_count": 111,
   "metadata": {},
   "outputs": [
    {
     "name": "stdout",
     "output_type": "stream",
     "text": [
      "BookShelf with 2 books.\n"
     ]
    }
   ],
   "source": [
    "# creating two instances of Book Class\n",
    "book = Book('Harry Potter')\n",
    "book2 = Book('The Dark Tower')\n",
    "\n",
    "# with inheritance, the book objects were passed to define the BookShelf\n",
    "shelf = BookShelf(book, book2)\n",
    "print(shelf)"
   ]
  },
  {
   "cell_type": "markdown",
   "metadata": {},
   "source": [
    "## decorators"
   ]
  },
  {
   "cell_type": "code",
   "execution_count": 16,
   "metadata": {},
   "outputs": [
    {
     "name": "stdout",
     "output_type": "stream",
     "text": [
      "No admin permissions for chris.\n"
     ]
    }
   ],
   "source": [
    "user = {'username': 'chris', 'access_level': 'guest'}\n",
    "\n",
    "\n",
    "def get_admin_password():\n",
    "    return '1234'\n",
    "\n",
    "def make_secure(func):\n",
    "    def secure_function():\n",
    "        if user['access_level'] == 'admin':\n",
    "            return func()\n",
    "        else:\n",
    "            return f\"No admin permissions for {user['username']}.\"\n",
    "        \n",
    "    return secure_function\n",
    "    \n",
    "get_admin_password = make_secure(get_admin_password)\n",
    "print(get_admin_password())"
   ]
  },
  {
   "cell_type": "markdown",
   "metadata": {},
   "source": [
    "## decorators; @ syntax"
   ]
  },
  {
   "cell_type": "code",
   "execution_count": 20,
   "metadata": {},
   "outputs": [
    {
     "name": "stdout",
     "output_type": "stream",
     "text": [
      "get_admin_password\n",
      "1234\n"
     ]
    }
   ],
   "source": [
    "import functools\n",
    "\n",
    "user = {'username': 'chris', 'access_level': 'admin'}\n",
    "\n",
    "\n",
    "def make_secure(func):\n",
    "    \n",
    "    # the functools.wraps tells secure_fuction it is a wrapper for get_admin_password, and prevents\n",
    "    # get_admin_password function name/documentation from being replaced w/secure_function name/documentation\n",
    "    @functools.wraps(func)\n",
    "    def secure_function():\n",
    "        if user['access_level'] == 'admin':\n",
    "            return func()\n",
    "        else:\n",
    "            return f\"No admin permissions for {user['username']}.\"\n",
    "        \n",
    "    return secure_function\n",
    "\n",
    "# this @make_secure decorator call will create the function and then pass it through make_secure\n",
    "@make_secure\n",
    "def get_admin_password():\n",
    "    return '1234'\n",
    "\n",
    "# w/out the @functools.wraps(func) call, this print would display 'secure_function', not 'get_admin_password'\n",
    "print(get_admin_password.__name__)\n",
    "\n",
    "print(get_admin_password())"
   ]
  },
  {
   "cell_type": "markdown",
   "metadata": {},
   "source": [
    "### decorating functions w/parameters"
   ]
  },
  {
   "cell_type": "code",
   "execution_count": 28,
   "metadata": {},
   "outputs": [
    {
     "data": {
      "text/plain": [
       "'super_secure_password'"
      ]
     },
     "execution_count": 28,
     "metadata": {},
     "output_type": "execute_result"
    }
   ],
   "source": [
    "import functools\n",
    "user = {'username': 'chris', 'access_level': 'billing'}\n",
    "\n",
    "def make_secure(func):\n",
    "    \n",
    "    @functools.wraps(func)\n",
    "    # by providing (*args, **kwargs) the function can take any number of parameters from any function passed to decorator\n",
    "    def secure_function(*args, **kwargs):\n",
    "\n",
    "        # if access_level == 'admin' or 'billing', then returns the func(get_password) with parameters  \n",
    "        if (user['access_level'] == 'admin') | (user['access_level'] == 'billing'):\n",
    "            return func(*args, **kwargs)\n",
    "\n",
    "        else:\n",
    "            return f\"No admin permissions for {user['username']}.\"\n",
    "        \n",
    "    return secure_function\n",
    "\n",
    "@make_secure\n",
    "def get_password(panel):\n",
    "    # after running through make_secure, appropriate password is returned\n",
    "    if panel == 'admin':\n",
    "        return '1234'\n",
    "    elif panel == 'billing':\n",
    "        return 'super_secure_password'\n",
    "\n",
    "get_password('billing')"
   ]
  },
  {
   "cell_type": "markdown",
   "metadata": {},
   "source": [
    "## decorators w/parameters"
   ]
  },
  {
   "cell_type": "code",
   "execution_count": 46,
   "metadata": {},
   "outputs": [],
   "source": [
    "import functools\n",
    "\n",
    "# make_secure has now access_level parameter passed into function\n",
    "def make_secure(access_level):\n",
    "    \n",
    "    # decorator function does the access level testing; if an access level is passed that @make_secure decorator\n",
    "    # has as a parameter, continue w/passed function, ELSE print string information.\n",
    "    def decorator(func):\n",
    "        \n",
    "        @functools.wraps(func)\n",
    "        def secure_function(*args, **kwargs):\n",
    "            if user['access_level'] == access_level:\n",
    "                return func(*args, **kwargs)\n",
    "            else:\n",
    "                return f\"No {access_level} permissions for {user['username']}.\"\n",
    "\n",
    "        # secure function is returned by decorator when run\n",
    "        return secure_function\n",
    "    # decorator function is returned by make_secure when run\n",
    "    return decorator\n",
    "    \n",
    "# including 'admin' parameter in @make_secure decorator\n",
    "@make_secure('admin')\n",
    "def get_admin_password():\n",
    "    return 'admin: 1234'\n",
    "\n",
    "# including 'user' parameter in @make_secure decorator\n",
    "@make_secure('user')\n",
    "def get_dashboard_password():\n",
    "    return 'user: user_password'"
   ]
  },
  {
   "cell_type": "code",
   "execution_count": 47,
   "metadata": {},
   "outputs": [
    {
     "name": "stdout",
     "output_type": "stream",
     "text": [
      "No admin permissions for Bruce Wayne.\n",
      "user: user_password\n"
     ]
    }
   ],
   "source": [
    "user = {'username': 'Bruce Wayne', 'access_level': 'user'}\n",
    "print(get_admin_password())\n",
    "print(get_dashboard_password())"
   ]
  },
  {
   "cell_type": "code",
   "execution_count": 48,
   "metadata": {},
   "outputs": [
    {
     "name": "stdout",
     "output_type": "stream",
     "text": [
      "admin: 1234\n",
      "No user permissions for Batman.\n"
     ]
    }
   ],
   "source": [
    "user = {'username': 'Batman', 'access_level': 'admin'}\n",
    "\n",
    "print(get_admin_password())\n",
    "print(get_dashboard_password())"
   ]
  },
  {
   "cell_type": "markdown",
   "metadata": {},
   "source": [
    "## mutability"
   ]
  },
  {
   "cell_type": "code",
   "execution_count": 52,
   "metadata": {},
   "outputs": [
    {
     "name": "stdout",
     "output_type": "stream",
     "text": [
      "140305482601856\n",
      "140305482601856\n"
     ]
    }
   ],
   "source": [
    "a = []\n",
    "b = a\n",
    "print(id(b))\n",
    "print(id(a))"
   ]
  },
  {
   "cell_type": "code",
   "execution_count": null,
   "metadata": {},
   "outputs": [],
   "source": [
    " "
   ]
  }
 ],
 "metadata": {
  "kernelspec": {
   "display_name": "Python 3",
   "language": "python",
   "name": "python3"
  },
  "language_info": {
   "codemirror_mode": {
    "name": "ipython",
    "version": 3
   },
   "file_extension": ".py",
   "mimetype": "text/x-python",
   "name": "python",
   "nbconvert_exporter": "python",
   "pygments_lexer": "ipython3",
   "version": "3.8.5"
  },
  "toc": {
   "base_numbering": 1,
   "nav_menu": {},
   "number_sections": false,
   "sideBar": true,
   "skip_h1_title": false,
   "title_cell": "Table of Contents",
   "title_sidebar": "Contents",
   "toc_cell": false,
   "toc_position": {},
   "toc_section_display": true,
   "toc_window_display": false
  },
  "varInspector": {
   "cols": {
    "lenName": "50",
    "lenType": 16,
    "lenVar": 40
   },
   "kernels_config": {
    "python": {
     "delete_cmd_postfix": "",
     "delete_cmd_prefix": "del ",
     "library": "var_list.py",
     "varRefreshCmd": "print(var_dic_list())"
    },
    "r": {
     "delete_cmd_postfix": ") ",
     "delete_cmd_prefix": "rm(",
     "library": "var_list.r",
     "varRefreshCmd": "cat(var_dic_list()) "
    }
   },
   "types_to_exclude": [
    "module",
    "function",
    "builtin_function_or_method",
    "instance",
    "_Feature"
   ],
   "window_display": false
  }
 },
 "nbformat": 4,
 "nbformat_minor": 4
}
