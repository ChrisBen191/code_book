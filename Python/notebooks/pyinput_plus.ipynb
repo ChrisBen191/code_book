{
 "cells": [
  {
   "cell_type": "markdown",
   "metadata": {},
   "source": [
    "# PyInputPlus Module"
   ]
  },
  {
   "cell_type": "markdown",
   "metadata": {},
   "source": [
    "|           Method           | Behavior                                                                                                          |\n",
    "| -------------------------:   | :----------------------------------------------------------------------------------------------------------------- |\n",
    "| `inputStr()` | similar to built-in input() function, but has additional features and can pass a custom validation function into it|\n",
    "| `inputNum()`  | ensures user enters a number and returns int, float |\n",
    "| `inputChoice()`  | ensures the users enters one of the provided choices|\n",
    "| `inputMenu()`  | similar to inputChoice(), but provides menu w/numbered or lettered options |\n",
    "| `inputDatetime()`  | ensures the user enters a date and time |\n",
    "| `inputYesNo()`  | ensure the user enters a yes/no response|\n",
    "| `inputBool()`  | similar to inputYesNo(), but takes a true/false response and returns a Boolean value|\n",
    "| `inputEmail()`  | ensures the user enters a valid email address|\n",
    "| `inpuFilepath()`  | ensures the user enters a valid file path and filename; can validate a file with that name exists|\n",
    "| `inputPassword()`  | like built-in input() function, but displays * characters as the user types so the password isn't displayed|"
   ]
  },
  {
   "cell_type": "code",
   "execution_count": 1,
   "metadata": {},
   "outputs": [],
   "source": [
    "import pyinputplus as pyip"
   ]
  },
  {
   "cell_type": "code",
   "execution_count": 3,
   "metadata": {},
   "outputs": [
    {
     "name": "stdout",
     "output_type": "stream",
     "text": [
      "Enter number:"
     ]
    },
    {
     "name": "stdin",
     "output_type": "stream",
     "text": [
      " 3\n"
     ]
    },
    {
     "name": "stdout",
     "output_type": "stream",
     "text": [
      "Number must be at minimum 4.\n",
      "Enter number:"
     ]
    },
    {
     "name": "stdin",
     "output_type": "stream",
     "text": [
      " 5\n"
     ]
    }
   ],
   "source": [
    "# including min, max, greaterThan, lessThan keywords w/can specify a range of valid values \n",
    "response = pyip.inputNum('Enter number:', min=4)"
   ]
  },
  {
   "cell_type": "code",
   "execution_count": 4,
   "metadata": {},
   "outputs": [
    {
     "name": "stdout",
     "output_type": "stream",
     "text": [
      "Enter name:"
     ]
    },
    {
     "name": "stdin",
     "output_type": "stream",
     "text": [
      " \n"
     ]
    },
    {
     "data": {
      "text/plain": [
       "''"
      ]
     },
     "execution_count": 4,
     "metadata": {},
     "output_type": "execute_result"
    }
   ],
   "source": [
    "#### using blank=True allows no responce to be recorded; blank=False by default\n",
    "pyip.inputStr('Enter name:', blank=True)"
   ]
  },
  {
   "cell_type": "code",
   "execution_count": 5,
   "metadata": {},
   "outputs": [
    {
     "name": "stdout",
     "output_type": "stream",
     "text": [
      "Enter number:"
     ]
    },
    {
     "name": "stdin",
     "output_type": "stream",
     "text": [
      " hello\n"
     ]
    },
    {
     "name": "stdout",
     "output_type": "stream",
     "text": [
      "'hello' is not a number.\n",
      "Enter number:"
     ]
    },
    {
     "name": "stdin",
     "output_type": "stream",
     "text": [
      " 1\n"
     ]
    },
    {
     "data": {
      "text/plain": [
       "1"
      ]
     },
     "execution_count": 5,
     "metadata": {},
     "output_type": "execute_result"
    }
   ],
   "source": [
    "# using limit keyword limits the attempts before raising RetryLimitException error\n",
    "pyip.inputNum('Enter number:', limit=2)"
   ]
  },
  {
   "cell_type": "code",
   "execution_count": 7,
   "metadata": {},
   "outputs": [
    {
     "name": "stdout",
     "output_type": "stream",
     "text": [
      "Enter name:"
     ]
    },
    {
     "name": "stdin",
     "output_type": "stream",
     "text": [
      " ole yeller\n"
     ]
    },
    {
     "data": {
      "text/plain": [
       "'ole yeller'"
      ]
     },
     "execution_count": 7,
     "metadata": {},
     "output_type": "execute_result"
    }
   ],
   "source": [
    "# using timeout keyword limits the seconds to input before raising TimeoutException error;\n",
    "# using default keyword provides a value instead of raising RetryLimitException error\n",
    "pyip.inputStr('Enter name:', timeout=10, default='N/A')"
   ]
  },
  {
   "cell_type": "code",
   "execution_count": 8,
   "metadata": {},
   "outputs": [
    {
     "name": "stdout",
     "output_type": "stream",
     "text": [
      "Enter number:"
     ]
    },
    {
     "name": "stdin",
     "output_type": "stream",
     "text": [
      " zero\n"
     ]
    }
   ],
   "source": [
    "# allowRegexes keyword take a list of regex strings to determine what is valid input\n",
    "response = pyip.inputNum('Enter number:', allowRegexes=[r'(I|V|X|L|C|D|M)', r'zero'])"
   ]
  },
  {
   "cell_type": "code",
   "execution_count": 9,
   "metadata": {},
   "outputs": [
    {
     "name": "stdout",
     "output_type": "stream",
     "text": [
      "Enter number:"
     ]
    },
    {
     "name": "stdin",
     "output_type": "stream",
     "text": [
      " 78\n"
     ]
    },
    {
     "name": "stdout",
     "output_type": "stream",
     "text": [
      "This response is invalid.\n",
      "Enter number:"
     ]
    },
    {
     "name": "stdin",
     "output_type": "stream",
     "text": [
      " 77\n"
     ]
    }
   ],
   "source": [
    "# allowRegexes keyword take a list of regex strings to determine what is valid input;\n",
    "# if using both allowRegexes and blockRegexes the ALLOW list overrides the BLOCK list\n",
    "response = pyip.inputNum('Enter number:', blockRegexes=[r'[02468]$'])"
   ]
  },
  {
   "cell_type": "code",
   "execution_count": 10,
   "metadata": {},
   "outputs": [
    {
     "name": "stdout",
     "output_type": "stream",
     "text": [
      "Please select one of the following:\n",
      "A. Red\n",
      "B. Blue\n",
      "C. Green\n",
      "D. Purple\n"
     ]
    },
    {
     "name": "stdin",
     "output_type": "stream",
     "text": [
      " Purple\n"
     ]
    },
    {
     "data": {
      "text/plain": [
       "'Purple'"
      ]
     },
     "execution_count": 10,
     "metadata": {},
     "output_type": "execute_result"
    }
   ],
   "source": [
    "pyip.inputMenu(['Red', 'Blue', 'Green', 'Purple'], lettered=True)"
   ]
  },
  {
   "cell_type": "code",
   "execution_count": 11,
   "metadata": {},
   "outputs": [
    {
     "name": "stdout",
     "output_type": "stream",
     "text": [
      "Input numbers adding up to 10:"
     ]
    },
    {
     "name": "stdin",
     "output_type": "stream",
     "text": [
      " 123\n"
     ]
    },
    {
     "name": "stdout",
     "output_type": "stream",
     "text": [
      "The digits must add up to 10, not 6\n",
      "\n",
      "Input numbers adding up to 10:"
     ]
    },
    {
     "name": "stdin",
     "output_type": "stream",
     "text": [
      " 1234\n"
     ]
    }
   ],
   "source": [
    "# custom function taking values adding up to 10\n",
    "def addsUpToTen(numbers):\n",
    "    \n",
    "    numbersList = list(numbers)\n",
    "    \n",
    "    for i, digit in enumerate(numbersList):\n",
    "        numbersList[i] = int(digit)\n",
    "        \n",
    "    if sum(numbersList) != 10:\n",
    "    \n",
    "        raise Exception(f'The digits must add up to 10, not {sum(numbersList)}\\n')\n",
    "        \n",
    "    return int(numbers)\n",
    "\n",
    "\n",
    "# running the inputCustom() method w/custom function addsUpToTen passed\n",
    "response = pyip.inputCustom(addsUpToTen, prompt='Input numbers adding up to 10:')"
   ]
  }
 ],
 "metadata": {
  "kernelspec": {
   "display_name": "Python 3",
   "language": "python",
   "name": "python3"
  },
  "language_info": {
   "codemirror_mode": {
    "name": "ipython",
    "version": 3
   },
   "file_extension": ".py",
   "mimetype": "text/x-python",
   "name": "python",
   "nbconvert_exporter": "python",
   "pygments_lexer": "ipython3",
   "version": "3.8.5"
  }
 },
 "nbformat": 4,
 "nbformat_minor": 4
}
