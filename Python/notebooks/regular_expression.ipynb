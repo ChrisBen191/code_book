{
 "cells": [
  {
   "cell_type": "markdown",
   "metadata": {},
   "source": [
    "|            Character Classes / Regex Symbols             | Represents                                                                                    |\n",
    "| ---------------------------: | :-------------------------------------------------------------------------------------------- |\n",
    "|    `\\d`     | Any numeric digit from 0 to 9.                                              |\n",
    "| `\\D` | Any character that is not a numeric digit from 0 to 9.|\n",
    "| `\\w` | Any letter, numeric digit, or the underscore character. (Think of this as matching “word” characters.)|\n",
    "| `\\W` | Any character that is not a letter, numeric digit, or the underscore character.|\n",
    "| `\\s` |Any space, tab, or newline character. (Think of this as matching “space” characters.) |\n",
    "|`\\S`|Any character that is not a space, tab, or newline.|\n",
    "|`?`| matches zero or one of the preceding group.|\n",
    "|`*` |matches zero or more of the preceding group.|\n",
    "| `+` |matches one or more of the preceding group.|\n",
    "|`{n}` |matches exactly n of the preceding group.|\n",
    "|`{n,}` |matches n or more of the preceding group.|\n",
    "|`{,m}` |matches 0 to m of the preceding group.|\n",
    "|`{n,m}`|matches at least n and at most m of the preceding group.|\n",
    "|`{n,m}? or *? or +?` |performs a non-greedy match of the preceding group.|\n",
    "|`^spam`| means the string must begin with spam.|\n",
    "|`spam$`| means the string must end with spam.|\n",
    "| `.` | matches any character, except newline characters.|\n",
    "|`[abc] or [a-z] or [a-zA-Z0-9]` |matches any character between the brackets (such as a, b, or c).|\n",
    "|`[^abc]`| matches any character that isn’t between the brackets.|\n",
    "|`re.IGNORECASE` or `re.I`| including in re.compile() as second argument will make regex object case-insensitive|\n",
    "|`re.VERBOSE`| including in re.compile() as second argument will make regex ignore whitespace and comments inside the match pattern|"
   ]
  },
  {
   "cell_type": "code",
   "execution_count": 10,
   "metadata": {},
   "outputs": [],
   "source": [
    "import re"
   ]
  },
  {
   "cell_type": "code",
   "execution_count": 11,
   "metadata": {},
   "outputs": [],
   "source": [
    "# creates a REGEX object that defines a xxx-xxx-xxxx phone pattern\n",
    "phone_regex = re.compile(r'\\d\\d\\d-\\d\\d\\d-\\d\\d\\d\\d')"
   ]
  },
  {
   "cell_type": "code",
   "execution_count": 12,
   "metadata": {},
   "outputs": [
    {
     "name": "stdout",
     "output_type": "stream",
     "text": [
      "Phone number found as : 123-867-5309\n"
     ]
    }
   ],
   "source": [
    "# using the search() method to search passed string for any matches to phone_regex; stored as match object\n",
    "match = phone_regex.search('My phone number is 123-867-5309')\n",
    "\n",
    "print(f'Phone number found as : {mo.group()}')"
   ]
  },
  {
   "cell_type": "code",
   "execution_count": 52,
   "metadata": {},
   "outputs": [
    {
     "name": "stdout",
     "output_type": "stream",
     "text": [
      "Area Code: 123\n",
      "Phone #: 867-5309\n",
      "Complete Phone #: 123-867-5309\n"
     ]
    }
   ],
   "source": [
    "# including parentheses will create groups w/in the regex object\n",
    "phone_regex_groups = re.compile(r'(\\d\\d\\d)-(\\d\\d\\d-\\d\\d\\d\\d)')\n",
    "\n",
    "# using search method() w/phone_regex_groups\n",
    "match = phone_regex_groups.search('My phone number is 123-867-5309')\n",
    "\n",
    "# using the group() method displays the distinct groups w/in the match object; default passes all groups in match object\n",
    "print(f'Area Code: {match.group(1)}')\n",
    "print(f'Phone #: {match.group(2)}')\n",
    "\n",
    "print(f'Complete Phone #: {match.group()}')"
   ]
  },
  {
   "cell_type": "code",
   "execution_count": 22,
   "metadata": {},
   "outputs": [
    {
     "name": "stdout",
     "output_type": "stream",
     "text": [
      "Area Code: 123\n",
      "Phone #: 867-5309\n"
     ]
    }
   ],
   "source": [
    "# the groups() method returns all groups in the match object\n",
    "area_code, main_number = match.groups()\n",
    "\n",
    "# using the group() method displays the distinct groups w/in the match object; default passes all groups in match object\n",
    "print(f'Area Code: {area_code}')\n",
    "print(f'Phone #: {main_number}')"
   ]
  },
  {
   "cell_type": "code",
   "execution_count": 27,
   "metadata": {},
   "outputs": [
    {
     "name": "stdout",
     "output_type": "stream",
     "text": [
      "Spider-man\n"
     ]
    }
   ],
   "source": [
    "# using a PIPE in regex object allows matching of multiple groups\n",
    "person_regex = re.compile(r'Spider-man|Peter Parker')\n",
    "\n",
    "match_1 = person_regex.search('Is Spider-man possibly Peter Parker?')\n",
    "\n",
    "# the match object will retrieve the first occurence if both values exist in the string\n",
    "print(match_1.group())"
   ]
  },
  {
   "cell_type": "code",
   "execution_count": 31,
   "metadata": {},
   "outputs": [
    {
     "name": "stdout",
     "output_type": "stream",
     "text": [
      "Bat\n",
      "Batman\n"
     ]
    }
   ],
   "source": [
    "# using parentheses using PIPES will allow several patterns for matching\n",
    "hero_regex = re.compile(r'(Super|Spider-|Bat|Wonderwo)man')\n",
    "\n",
    "hero_match = hero_regex.search('Batman is not a real superhero in certain schools of thought.')\n",
    "\n",
    "# displaying the returned group of the matched text using .group(1); displaying entire match object\n",
    "print(hero_match.group(1))\n",
    "print(hero_match.group())"
   ]
  },
  {
   "cell_type": "code",
   "execution_count": 34,
   "metadata": {},
   "outputs": [
    {
     "name": "stdout",
     "output_type": "stream",
     "text": [
      "HaHaHaHaHa\n"
     ]
    }
   ],
   "source": [
    "# regex object is greedy; or will choose the longest string possible (ie. 5 Ha's, not 3)\n",
    "greedy_regex = re.compile(r'(Ha){3,5}')\n",
    "\n",
    "# the match object returns the longest string\n",
    "greedy = greedy_regex.search('HaHaHaHaHa')\n",
    "print(greedy.group())"
   ]
  },
  {
   "cell_type": "code",
   "execution_count": 37,
   "metadata": {},
   "outputs": [
    {
     "name": "stdout",
     "output_type": "stream",
     "text": [
      "HaHaHa\n"
     ]
    }
   ],
   "source": [
    "# regex object is non-greedy by including '?' in match pattern  \n",
    "notgreedy_regex = re.compile(r'(Ha){3,5}?')\n",
    "\n",
    "# the match object does not always bring the longest possible pattern\n",
    "notgreedy = notgreedy_regex.search('HaHaHaHaHa')\n",
    "print(notgreedy.group())"
   ]
  },
  {
   "cell_type": "code",
   "execution_count": 45,
   "metadata": {},
   "outputs": [
    {
     "data": {
      "text/plain": [
       "['123-867-5309', '912-386-7530']"
      ]
     },
     "execution_count": 45,
     "metadata": {},
     "output_type": "execute_result"
    }
   ],
   "source": [
    "phones_regex = re.compile(r'\\d{3}-\\d{3}-\\d{4}')\n",
    "\n",
    "# findall() method returns every match in the searched strings\n",
    "phones_match = phones_regex.findall('Cell: 123-867-5309 & Work: 912-386-7530')\n",
    "\n",
    "# findall() returns a list of strings when there are no groups in regex object\n",
    "phones_match"
   ]
  },
  {
   "cell_type": "code",
   "execution_count": 46,
   "metadata": {},
   "outputs": [
    {
     "data": {
      "text/plain": [
       "[('123', '867', '5309'), ('912', '386', '7530')]"
      ]
     },
     "execution_count": 46,
     "metadata": {},
     "output_type": "execute_result"
    }
   ],
   "source": [
    "# same regex object as above but grouped\n",
    "phones_regex_groups = re.compile(r'(\\d{3})-(\\d{3})-(\\d{4})')\n",
    "\n",
    "# findall() method returns every match in the searched strings\n",
    "phones_match = phones_regex_groups.findall('Cell: 123-867-5309 & Work: 912-386-7530')\n",
    "\n",
    "# findall() returns a list of tuples when groups in regex object\n",
    "phones_match"
   ]
  },
  {
   "cell_type": "code",
   "execution_count": 48,
   "metadata": {},
   "outputs": [
    {
     "data": {
      "text/plain": [
       "'CENSORED passed along the documents to CENSORED'"
      ]
     },
     "execution_count": 48,
     "metadata": {},
     "output_type": "execute_result"
    }
   ],
   "source": [
    "# substituting strings with the sub() method\n",
    "names_regex = re.compile(r'Agent \\w+')\n",
    "\n",
    "names_regex.sub('CENSORED', 'Agent Alice passed along the documents to Agent Bob')"
   ]
  },
  {
   "cell_type": "code",
   "execution_count": 51,
   "metadata": {},
   "outputs": [
    {
     "data": {
      "text/plain": [
       "'Agent A**** passed along the documents to Agent B****'"
      ]
     },
     "execution_count": 51,
     "metadata": {},
     "output_type": "execute_result"
    }
   ],
   "source": [
    "# regex object will obtain first initial using (\\w) in match pattern\n",
    "agent_names_regex = re.compile(f'Agent (\\w)\\w*')\n",
    "\n",
    "# including \\1, \\2, \\3, etc. in .sub() will replace string with what is stored in group(1) \n",
    "agent_names_regex.sub(r'Agent \\1****', 'Agent Alice passed along the documents to Agent Bob')"
   ]
  },
  {
   "cell_type": "code",
   "execution_count": 55,
   "metadata": {},
   "outputs": [
    {
     "data": {
      "text/plain": [
       "[('123-867-5309', '123', '-', '867', '-', '5309'),\n",
       " ('912-386-7530', '912', '-', '386', '-', '7530')]"
      ]
     },
     "execution_count": 55,
     "metadata": {},
     "output_type": "execute_result"
    }
   ],
   "source": [
    "# using re.VERBOSE to ignore white spaces/comments to better code complex match patterns\n",
    "phone_regex = re.compile(r'''(\n",
    "(\\d{3}) # area code\n",
    "(-)     # separator\n",
    "(\\d{3}) # first 3 numbers\n",
    "(-)     # separator\n",
    "(\\d{4}) # last 4 numbers\n",
    ")''', re.VERBOSE)\n",
    "\n",
    "phone_regex.findall('Cell: 123-867-5309 & Work: 912-386-7530')"
   ]
  }
 ],
 "metadata": {
  "kernelspec": {
   "display_name": "Python 3",
   "language": "python",
   "name": "python3"
  },
  "language_info": {
   "codemirror_mode": {
    "name": "ipython",
    "version": 3
   },
   "file_extension": ".py",
   "mimetype": "text/x-python",
   "name": "python",
   "nbconvert_exporter": "python",
   "pygments_lexer": "ipython3",
   "version": "3.8.5"
  }
 },
 "nbformat": 4,
 "nbformat_minor": 4
}
